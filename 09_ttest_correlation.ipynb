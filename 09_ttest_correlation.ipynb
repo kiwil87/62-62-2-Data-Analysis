{
 "cells": [
  {
   "cell_type": "markdown",
   "id": "f9244d24",
   "metadata": {},
   "source": [
    "# Objectifs"
   ]
  },
  {
   "cell_type": "markdown",
   "id": "69e322dc",
   "metadata": {},
   "source": [
    "Les objectifs de la lecon sont les suivants:\n",
    "* Enoncer H0 et H1 pour chaque test\n",
    "* Calculer en Python les p-valeurs\n",
    "* Interpréter les résultats"
   ]
  },
  {
   "cell_type": "markdown",
   "id": "6b5a9bcb",
   "metadata": {},
   "source": [
    "# Importer les libraries"
   ]
  },
  {
   "cell_type": "code",
   "execution_count": 1,
   "id": "767c2564",
   "metadata": {
    "scrolled": true
   },
   "outputs": [],
   "source": [
    "import pandas as pd\n",
    "import numpy as np\n",
    "from scipy import stats\n",
    "\n",
    "# Data\n",
    "from sklearn import datasets\n",
    "\n",
    "# Visualization\n",
    "import seaborn as sns\n",
    "import matplotlib.pyplot as plt"
   ]
  },
  {
   "cell_type": "markdown",
   "id": "ee1aeb77",
   "metadata": {},
   "source": [
    "# Importer les données"
   ]
  },
  {
   "cell_type": "code",
   "execution_count": 2,
   "id": "b41a5c8b",
   "metadata": {
    "scrolled": true
   },
   "outputs": [
    {
     "data": {
      "text/html": [
       "<div>\n",
       "<style scoped>\n",
       "    .dataframe tbody tr th:only-of-type {\n",
       "        vertical-align: middle;\n",
       "    }\n",
       "\n",
       "    .dataframe tbody tr th {\n",
       "        vertical-align: top;\n",
       "    }\n",
       "\n",
       "    .dataframe thead th {\n",
       "        text-align: right;\n",
       "    }\n",
       "</style>\n",
       "<table border=\"1\" class=\"dataframe\">\n",
       "  <thead>\n",
       "    <tr style=\"text-align: right;\">\n",
       "      <th></th>\n",
       "      <th>sepal length (cm)</th>\n",
       "      <th>sepal width (cm)</th>\n",
       "      <th>petal length (cm)</th>\n",
       "      <th>petal width (cm)</th>\n",
       "      <th>species</th>\n",
       "    </tr>\n",
       "  </thead>\n",
       "  <tbody>\n",
       "    <tr>\n",
       "      <th>0</th>\n",
       "      <td>5.1</td>\n",
       "      <td>3.5</td>\n",
       "      <td>1.4</td>\n",
       "      <td>0.2</td>\n",
       "      <td>setosa</td>\n",
       "    </tr>\n",
       "    <tr>\n",
       "      <th>1</th>\n",
       "      <td>4.9</td>\n",
       "      <td>3.0</td>\n",
       "      <td>1.4</td>\n",
       "      <td>0.2</td>\n",
       "      <td>setosa</td>\n",
       "    </tr>\n",
       "    <tr>\n",
       "      <th>2</th>\n",
       "      <td>4.7</td>\n",
       "      <td>3.2</td>\n",
       "      <td>1.3</td>\n",
       "      <td>0.2</td>\n",
       "      <td>setosa</td>\n",
       "    </tr>\n",
       "    <tr>\n",
       "      <th>3</th>\n",
       "      <td>4.6</td>\n",
       "      <td>3.1</td>\n",
       "      <td>1.5</td>\n",
       "      <td>0.2</td>\n",
       "      <td>setosa</td>\n",
       "    </tr>\n",
       "    <tr>\n",
       "      <th>4</th>\n",
       "      <td>5.0</td>\n",
       "      <td>3.6</td>\n",
       "      <td>1.4</td>\n",
       "      <td>0.2</td>\n",
       "      <td>setosa</td>\n",
       "    </tr>\n",
       "    <tr>\n",
       "      <th>...</th>\n",
       "      <td>...</td>\n",
       "      <td>...</td>\n",
       "      <td>...</td>\n",
       "      <td>...</td>\n",
       "      <td>...</td>\n",
       "    </tr>\n",
       "    <tr>\n",
       "      <th>145</th>\n",
       "      <td>6.7</td>\n",
       "      <td>3.0</td>\n",
       "      <td>5.2</td>\n",
       "      <td>2.3</td>\n",
       "      <td>virginica</td>\n",
       "    </tr>\n",
       "    <tr>\n",
       "      <th>146</th>\n",
       "      <td>6.3</td>\n",
       "      <td>2.5</td>\n",
       "      <td>5.0</td>\n",
       "      <td>1.9</td>\n",
       "      <td>virginica</td>\n",
       "    </tr>\n",
       "    <tr>\n",
       "      <th>147</th>\n",
       "      <td>6.5</td>\n",
       "      <td>3.0</td>\n",
       "      <td>5.2</td>\n",
       "      <td>2.0</td>\n",
       "      <td>virginica</td>\n",
       "    </tr>\n",
       "    <tr>\n",
       "      <th>148</th>\n",
       "      <td>6.2</td>\n",
       "      <td>3.4</td>\n",
       "      <td>5.4</td>\n",
       "      <td>2.3</td>\n",
       "      <td>virginica</td>\n",
       "    </tr>\n",
       "    <tr>\n",
       "      <th>149</th>\n",
       "      <td>5.9</td>\n",
       "      <td>3.0</td>\n",
       "      <td>5.1</td>\n",
       "      <td>1.8</td>\n",
       "      <td>virginica</td>\n",
       "    </tr>\n",
       "  </tbody>\n",
       "</table>\n",
       "<p>150 rows × 5 columns</p>\n",
       "</div>"
      ],
      "text/plain": [
       "     sepal length (cm)  sepal width (cm)  petal length (cm)  petal width (cm)  \\\n",
       "0                  5.1               3.5                1.4               0.2   \n",
       "1                  4.9               3.0                1.4               0.2   \n",
       "2                  4.7               3.2                1.3               0.2   \n",
       "3                  4.6               3.1                1.5               0.2   \n",
       "4                  5.0               3.6                1.4               0.2   \n",
       "..                 ...               ...                ...               ...   \n",
       "145                6.7               3.0                5.2               2.3   \n",
       "146                6.3               2.5                5.0               1.9   \n",
       "147                6.5               3.0                5.2               2.0   \n",
       "148                6.2               3.4                5.4               2.3   \n",
       "149                5.9               3.0                5.1               1.8   \n",
       "\n",
       "       species  \n",
       "0       setosa  \n",
       "1       setosa  \n",
       "2       setosa  \n",
       "3       setosa  \n",
       "4       setosa  \n",
       "..         ...  \n",
       "145  virginica  \n",
       "146  virginica  \n",
       "147  virginica  \n",
       "148  virginica  \n",
       "149  virginica  \n",
       "\n",
       "[150 rows x 5 columns]"
      ]
     },
     "execution_count": 2,
     "metadata": {},
     "output_type": "execute_result"
    }
   ],
   "source": [
    "# Loader les données\n",
    "iris = datasets.load_iris()\n",
    "\n",
    "# Obtenir les features\n",
    "features = pd.DataFrame(\n",
    "    data=iris.data,\n",
    "    columns=iris.feature_names\n",
    ")\n",
    "# Obtenir la target\n",
    "target = pd.DataFrame(\n",
    "    data=iris.target,\n",
    "    columns=[\"species\"]\n",
    ")\n",
    "def target_converter(sp):\n",
    "    \"\"\"Apply strings to integers for the targets.\"\"\"\n",
    "    if sp == 0:\n",
    "        return \"setosa\"\n",
    "    elif sp == 1:\n",
    "        return \"versicolor\"\n",
    "    else:\n",
    "        return \"virginica\"\n",
    "target[\"species\"] = target[\"species\"].apply(target_converter)\n",
    "\n",
    "# Concaténer les features et la target dans une meme dataframe\n",
    "data = pd.concat([features, target], axis=1)\n",
    "\n",
    "data"
   ]
  },
  {
   "cell_type": "markdown",
   "id": "9c722767",
   "metadata": {},
   "source": [
    "# EDA rapide"
   ]
  },
  {
   "cell_type": "code",
   "execution_count": 3,
   "id": "4d349e98",
   "metadata": {},
   "outputs": [
    {
     "data": {
      "image/png": "[encoded data removed]",
      "text/plain": [
       "<Figure size 1000x1000 with 14 Axes>"
      ]
     },
     "metadata": {},
     "output_type": "display_data"
    }
   ],
   "source": [
    "# Visualisons quelques scatter plots\n",
    "sns.pairplot(\n",
    "    data=data.drop(columns=[\"species\"]),\n",
    "    corner=True\n",
    ")\n",
    "plt.show()"
   ]
  },
  {
   "cell_type": "markdown",
   "id": "ca2b1ec3",
   "metadata": {},
   "source": [
    "# t-test corrélation"
   ]
  },
  {
   "cell_type": "markdown",
   "id": "b969104e",
   "metadata": {},
   "source": [
    "Rappel de la formule pour calculer la statistique t pour la corrélation:\n",
    "$$ t = r \\sqrt{\\frac{n - 2}{1 - r^2}} $$\n",
    "et les *degrés de liberté* sont n-2."
   ]
  },
  {
   "cell_type": "markdown",
   "id": "deb918d9",
   "metadata": {},
   "source": [
    "### La corrélation est-elle significative entre `la longueur des sépales (cm)` et `la longueur des pétales (cm)` dans la population?"
   ]
  },
  {
   "cell_type": "markdown",
   "id": "1f60dc95",
   "metadata": {},
   "source": [
    "$H_0$: $\\rho$ = 0, il n'y a pas de corrélation entre `la longueur des sépales (cm)` et `la longueur des pétales (cm)` dans la population.\n",
    "\n",
    "$H_1$: $\\rho$ $\\ne$ 0, il y a une corrélation significative entre `la longueur des sépales (cm)` et `la longueur des pétales (cm)` dans la population."
   ]
  },
  {
   "cell_type": "markdown",
   "id": "66391814",
   "metadata": {},
   "source": [
    "Les assumptions sont validées:\n",
    "* Les variables sont bel et bien quantitatives et proviennent d'un échantillon aléatoire.\n",
    "* Les variables sont approximativement liées linéairement selon le scatter plot ci-dessus.\n",
    "* Il n'y a pas de valeur(s) aberrante(s).\n",
    "* On assume que les variables suivent une distribution normale dans la population."
   ]
  },
  {
   "cell_type": "code",
   "execution_count": 4,
   "id": "c2b14db3",
   "metadata": {
    "scrolled": true
   },
   "outputs": [
    {
     "data": {
      "text/html": [
       "<div>\n",
       "<style scoped>\n",
       "    .dataframe tbody tr th:only-of-type {\n",
       "        vertical-align: middle;\n",
       "    }\n",
       "\n",
       "    .dataframe tbody tr th {\n",
       "        vertical-align: top;\n",
       "    }\n",
       "\n",
       "    .dataframe thead th {\n",
       "        text-align: right;\n",
       "    }\n",
       "</style>\n",
       "<table border=\"1\" class=\"dataframe\">\n",
       "  <thead>\n",
       "    <tr style=\"text-align: right;\">\n",
       "      <th></th>\n",
       "      <th>sepal length (cm)</th>\n",
       "      <th>sepal width (cm)</th>\n",
       "      <th>petal length (cm)</th>\n",
       "      <th>petal width (cm)</th>\n",
       "      <th>species</th>\n",
       "    </tr>\n",
       "  </thead>\n",
       "  <tbody>\n",
       "    <tr>\n",
       "      <th>0</th>\n",
       "      <td>5.1</td>\n",
       "      <td>3.5</td>\n",
       "      <td>1.4</td>\n",
       "      <td>0.2</td>\n",
       "      <td>setosa</td>\n",
       "    </tr>\n",
       "    <tr>\n",
       "      <th>1</th>\n",
       "      <td>4.9</td>\n",
       "      <td>3.0</td>\n",
       "      <td>1.4</td>\n",
       "      <td>0.2</td>\n",
       "      <td>setosa</td>\n",
       "    </tr>\n",
       "    <tr>\n",
       "      <th>2</th>\n",
       "      <td>4.7</td>\n",
       "      <td>3.2</td>\n",
       "      <td>1.3</td>\n",
       "      <td>0.2</td>\n",
       "      <td>setosa</td>\n",
       "    </tr>\n",
       "    <tr>\n",
       "      <th>3</th>\n",
       "      <td>4.6</td>\n",
       "      <td>3.1</td>\n",
       "      <td>1.5</td>\n",
       "      <td>0.2</td>\n",
       "      <td>setosa</td>\n",
       "    </tr>\n",
       "    <tr>\n",
       "      <th>4</th>\n",
       "      <td>5.0</td>\n",
       "      <td>3.6</td>\n",
       "      <td>1.4</td>\n",
       "      <td>0.2</td>\n",
       "      <td>setosa</td>\n",
       "    </tr>\n",
       "    <tr>\n",
       "      <th>...</th>\n",
       "      <td>...</td>\n",
       "      <td>...</td>\n",
       "      <td>...</td>\n",
       "      <td>...</td>\n",
       "      <td>...</td>\n",
       "    </tr>\n",
       "    <tr>\n",
       "      <th>145</th>\n",
       "      <td>6.7</td>\n",
       "      <td>3.0</td>\n",
       "      <td>5.2</td>\n",
       "      <td>2.3</td>\n",
       "      <td>virginica</td>\n",
       "    </tr>\n",
       "    <tr>\n",
       "      <th>146</th>\n",
       "      <td>6.3</td>\n",
       "      <td>2.5</td>\n",
       "      <td>5.0</td>\n",
       "      <td>1.9</td>\n",
       "      <td>virginica</td>\n",
       "    </tr>\n",
       "    <tr>\n",
       "      <th>147</th>\n",
       "      <td>6.5</td>\n",
       "      <td>3.0</td>\n",
       "      <td>5.2</td>\n",
       "      <td>2.0</td>\n",
       "      <td>virginica</td>\n",
       "    </tr>\n",
       "    <tr>\n",
       "      <th>148</th>\n",
       "      <td>6.2</td>\n",
       "      <td>3.4</td>\n",
       "      <td>5.4</td>\n",
       "      <td>2.3</td>\n",
       "      <td>virginica</td>\n",
       "    </tr>\n",
       "    <tr>\n",
       "      <th>149</th>\n",
       "      <td>5.9</td>\n",
       "      <td>3.0</td>\n",
       "      <td>5.1</td>\n",
       "      <td>1.8</td>\n",
       "      <td>virginica</td>\n",
       "    </tr>\n",
       "  </tbody>\n",
       "</table>\n",
       "<p>150 rows × 5 columns</p>\n",
       "</div>"
      ],
      "text/plain": [
       "     sepal length (cm)  sepal width (cm)  petal length (cm)  petal width (cm)  \\\n",
       "0                  5.1               3.5                1.4               0.2   \n",
       "1                  4.9               3.0                1.4               0.2   \n",
       "2                  4.7               3.2                1.3               0.2   \n",
       "3                  4.6               3.1                1.5               0.2   \n",
       "4                  5.0               3.6                1.4               0.2   \n",
       "..                 ...               ...                ...               ...   \n",
       "145                6.7               3.0                5.2               2.3   \n",
       "146                6.3               2.5                5.0               1.9   \n",
       "147                6.5               3.0                5.2               2.0   \n",
       "148                6.2               3.4                5.4               2.3   \n",
       "149                5.9               3.0                5.1               1.8   \n",
       "\n",
       "       species  \n",
       "0       setosa  \n",
       "1       setosa  \n",
       "2       setosa  \n",
       "3       setosa  \n",
       "4       setosa  \n",
       "..         ...  \n",
       "145  virginica  \n",
       "146  virginica  \n",
       "147  virginica  \n",
       "148  virginica  \n",
       "149  virginica  \n",
       "\n",
       "[150 rows x 5 columns]"
      ]
     },
     "execution_count": 4,
     "metadata": {},
     "output_type": "execute_result"
    }
   ],
   "source": [
    "data"
   ]
  },
  {
   "cell_type": "code",
   "execution_count": 5,
   "id": "dc80bd8e",
   "metadata": {
    "scrolled": true
   },
   "outputs": [
    {
     "name": "stdout",
     "output_type": "stream",
     "text": [
      "La corrélation entre `sepal length (cm)` et `petal length (cm)` est de 0.8717537758865829.\n",
      "L'échantillon est de taille 150.\n"
     ]
    }
   ],
   "source": [
    "# On crée les variables dont nous avons besoin\n",
    "var1 = data[\"sepal length (cm)\"]\n",
    "var2 = data[\"petal length (cm)\"]\n",
    "r = var1.corr(var2) # la corrélation entre les 2 variables\n",
    "n = len(var1) # la taille de l'échantillon\n",
    "\n",
    "print(f\"La corrélation entre `sepal length (cm)` et `petal length (cm)` est de {r}.\")\n",
    "print(f\"L'échantillon est de taille {n}.\")"
   ]
  },
  {
   "cell_type": "code",
   "execution_count": 6,
   "id": "d7da38f1",
   "metadata": {
    "scrolled": true
   },
   "outputs": [
    {
     "name": "stdout",
     "output_type": "stream",
     "text": [
      "La statistique t est: 21.646019345759743.\n"
     ]
    }
   ],
   "source": [
    "# On calcule la statistique t \n",
    "t = r * np.sqrt((n - 2) / (1 - r**2))\n",
    "\n",
    "print(f\"La statistique t est: {t}.\")"
   ]
  },
  {
   "cell_type": "code",
   "execution_count": 7,
   "id": "5af40e2a",
   "metadata": {
    "scrolled": true
   },
   "outputs": [
    {
     "name": "stdout",
     "output_type": "stream",
     "text": [
      "La p-valeur est: 1.0386674194499307e-47\n",
      "Avec un seuil alpha à 0.05, on rejette l'hypothèse nulle.\n",
      "Il y a une corrélation significative entre `sepal length (cm)` et `petal length (cm)` dans la population.\n"
     ]
    }
   ],
   "source": [
    "# On calcule la p-valeur\n",
    "p_valeur = stats.t.cdf(-abs(t), df=n-2)*2\n",
    "alpha = 0.05 # seuil\n",
    "\n",
    "print(\"La p-valeur est:\", p_valeur)\n",
    "\n",
    "# Si p-valeur < alpha, on rejette l'hypothèse nulle\n",
    "if p_valeur < alpha:\n",
    "    print(f\"Avec un seuil alpha à {alpha}, on rejette l'hypothèse nulle.\")\n",
    "    print(\"Il y a une corrélation significative entre `sepal length (cm)` et `petal length (cm)` dans la population.\")\n",
    "# Sinon, on ne rejette pas l'hypothèse nulle\n",
    "else:\n",
    "    print(f\"Avec un seuil alpha à {alpha}, on ne rejette pas l'hypothèse nulle.\")\n",
    "    print(\"Il n'y a pas de corrélation entre `sepal length (cm)` et `petal length (cm)` dans la population.\")"
   ]
  },
  {
   "cell_type": "markdown",
   "id": "d63151f6",
   "metadata": {},
   "source": [
    "La fonction [`stats.pearsonr`](https://docs.scipy.org/doc/scipy/reference/generated/scipy.stats.pearsonr.html) de SciPy permet de faire ce t-test de façon automatique en une ligne."
   ]
  },
  {
   "cell_type": "code",
   "execution_count": 8,
   "id": "a0037886",
   "metadata": {
    "scrolled": true
   },
   "outputs": [
    {
     "name": "stdout",
     "output_type": "stream",
     "text": [
      "La corrélation entre `sepal length (cm)` et `petal length (cm)` est de 0.8717537758865831.\n",
      "\n",
      "\n",
      "La p-valeur est: 1.0386674194498099e-47\n",
      "Avec un seuil alpha à 0.05, on rejette l'hypothèse nulle.\n",
      "Il y a une corrélation significative entre `sepal length (cm)` et `petal length (cm)` dans la population.\n"
     ]
    }
   ],
   "source": [
    "# En 1 ligne de code\n",
    "r, p_valeur = stats.pearsonr(\n",
    "    var1, # `sepal length (cm)`\n",
    "    var2 # `petal length (cm)`\n",
    ")\n",
    "\n",
    "print(f\"La corrélation entre `sepal length (cm)` et `petal length (cm)` est de {r}.\")\n",
    "\n",
    "print(\"\\n\") # sauter une ligne\n",
    "\n",
    "print(\"La p-valeur est:\", p_valeur)\n",
    "\n",
    "# Si p-valeur < alpha, on rejette l'hypothèse nulle\n",
    "if p_valeur < alpha:\n",
    "    print(f\"Avec un seuil alpha à {alpha}, on rejette l'hypothèse nulle.\")\n",
    "    print(\"Il y a une corrélation significative entre `sepal length (cm)` et `petal length (cm)` dans la population.\")\n",
    "# Sinon, on ne rejette pas l'hypothèse nulle\n",
    "else:\n",
    "    print(f\"Avec un seuil alpha à {alpha}, on ne rejette pas l'hypothèse nulle.\")\n",
    "    print(\"Il n'y a pas de corrélation entre `sepal length (cm)` et `petal length (cm)` dans la population.\")"
   ]
  },
  {
   "cell_type": "markdown",
   "id": "a06a0cbc",
   "metadata": {},
   "source": [
    "### La corrélation est-elle significative entre `la largeur des pétales (cm)` et `la longueur des pétales (cm)` dans la population?"
   ]
  },
  {
   "cell_type": "markdown",
   "id": "3de79984",
   "metadata": {},
   "source": [
    "$H_0$: $\\rho$ = 0, il n'y a pas de corrélation entre `la largeur des pétales (cm)` et `la longueur des pétales (cm)` dans la population.\n",
    "\n",
    "$H_1$: $\\rho$ $\\ne$ 0, il y a une corrélation significative entre `la largeur des pétales (cm)` et `la longueur des pétales (cm)` dans la population."
   ]
  },
  {
   "cell_type": "code",
   "execution_count": 9,
   "id": "0dea0254",
   "metadata": {
    "scrolled": true
   },
   "outputs": [
    {
     "name": "stdout",
     "output_type": "stream",
     "text": [
      "La corrélation entre `petal width (cm)` et `petal length (cm)` est de 0.9628654314027966.\n",
      "\n",
      "\n",
      "La p-valeur est: 4.675003907323488e-86\n",
      "Avec un seuil alpha à 0.05, on rejette l'hypothèse nulle.\n",
      "Il y a une corrélation significative entre `petal width (cm)` et `petal length (cm)` dans la population.\n"
     ]
    }
   ],
   "source": [
    "# En 1 ligne de code\n",
    "r, p_valeur = stats.pearsonr(\n",
    "    data[\"petal width (cm)\"],\n",
    "    data[\"petal length (cm)\"]\n",
    ")\n",
    "\n",
    "print(f\"La corrélation entre `petal width (cm)` et `petal length (cm)` est de {r}.\")\n",
    "\n",
    "print(\"\\n\") # sauter une ligne\n",
    "\n",
    "print(\"La p-valeur est:\", p_valeur)\n",
    "\n",
    "# Si p-valeur < alpha, on rejette l'hypothèse nulle\n",
    "if p_valeur < alpha:\n",
    "    print(f\"Avec un seuil alpha à {alpha}, on rejette l'hypothèse nulle.\")\n",
    "    print(\"Il y a une corrélation significative entre `petal width (cm)` et `petal length (cm)` dans la population.\")\n",
    "# Sinon, on ne rejette pas l'hypothèse nulle\n",
    "else:\n",
    "    print(f\"Avec un seuil alpha à {alpha}, on ne rejette pas l'hypothèse nulle.\")\n",
    "    print(\"Il n'y a pas de corrélation entre `petal width (cm)` et `petal length (cm)` dans la population.\")"
   ]
  },
  {
   "cell_type": "markdown",
   "id": "20e2f898",
   "metadata": {},
   "source": [
    "### Bonus: exemple du cours"
   ]
  },
  {
   "cell_type": "markdown",
   "id": "2914ddb9",
   "metadata": {},
   "source": [
    "$H_0$: $\\rho$ = 0, il n'y a pas de corrélation entre `nb cig per day` et `age of death` dans la population.\n",
    "\n",
    "$H_1$: $\\rho$ $\\ne$ 0, il y a une corrélation significative entre `nb cig per day` et `age of death` dans la population."
   ]
  },
  {
   "cell_type": "code",
   "execution_count": 10,
   "id": "8a896593",
   "metadata": {
    "scrolled": true
   },
   "outputs": [],
   "source": [
    "# On crée les variables\n",
    "nb_cig_per_day_var = np.array([5, 23, 25, 48, 17, 8, 4, 26, 11, 19, 14, 35, 29, 4, 23])\n",
    "age_of_death_var = np.array([80, 78, 60, 53, 85, 84, 73, 79, 81, 75, 68, 72, 58, 92, 65])"
   ]
  },
  {
   "cell_type": "code",
   "execution_count": 11,
   "id": "75e39500",
   "metadata": {
    "scrolled": true
   },
   "outputs": [
    {
     "data": {
      "image/png": "[encoded data removed]",
      "text/plain": [
       "<Figure size 640x480 with 1 Axes>"
      ]
     },
     "metadata": {},
     "output_type": "display_data"
    }
   ],
   "source": [
    "# On fait un scatter plot\n",
    "sns.scatterplot(\n",
    "    x=nb_cig_per_day_var,\n",
    "    y=age_of_death_var\n",
    ")\n",
    "plt.title(\"Relationship between the number of cigarettes per day and age of death\")\n",
    "plt.xlabel(\"Number of cigarettes per day\")\n",
    "plt.ylabel(\"Age of death\")\n",
    "plt.show()"
   ]
  },
  {
   "cell_type": "code",
   "execution_count": 12,
   "id": "c55324af",
   "metadata": {
    "scrolled": true
   },
   "outputs": [
    {
     "name": "stdout",
     "output_type": "stream",
     "text": [
      "La corrélation entre `nb_cig_per_day_var` et `age_of_death` est de -0.7134301743865809.\n",
      "\n",
      "\n",
      "La p-valeur est: 0.0028223429900712336\n",
      "Avec un seuil alpha à 0.05, on rejette l'hypothèse nulle.\n",
      "Il y a une corrélation significative entre `nb_cig_per_day_var` et `age_of_death` dans la population.\n"
     ]
    }
   ],
   "source": [
    "# En 1 ligne de code\n",
    "r, p_valeur = stats.pearsonr(\n",
    "    nb_cig_per_day_var,\n",
    "    age_of_death_var\n",
    ")\n",
    "\n",
    "print(f\"La corrélation entre `nb_cig_per_day_var` et `age_of_death` est de {r}.\")\n",
    "\n",
    "print(\"\\n\") # sauter une ligne\n",
    "\n",
    "print(\"La p-valeur est:\", p_valeur)\n",
    "\n",
    "# Si p-valeur < alpha, on rejette l'hypothèse nulle\n",
    "if p_valeur < alpha:\n",
    "    print(f\"Avec un seuil alpha à {alpha}, on rejette l'hypothèse nulle.\")\n",
    "    print(\"Il y a une corrélation significative entre `nb_cig_per_day_var` et `age_of_death` dans la population.\")\n",
    "# Sinon, on ne rejette pas l'hypothèse nulle\n",
    "else:\n",
    "    print(f\"Avec un seuil alpha à {alpha}, on ne rejette pas l'hypothèse nulle.\")\n",
    "    print(\"Il n'y a pas de corrélation entre `nb_cig_per_day_var` et `age_of_death` dans la population.\")"
   ]
  },
  {
   "cell_type": "code",
   "execution_count": null,
   "id": "899974c0",
   "metadata": {
    "scrolled": true
   },
   "outputs": [],
   "source": []
  }
 ],
 "metadata": {
  "kernelspec": {
   "display_name": "Python 3 (ipykernel)",
   "language": "python",
   "name": "python3"
  },
  "language_info": {
   "codemirror_mode": {
    "name": "ipython",
    "version": 3
   },
   "file_extension": ".py",
   "mimetype": "text/x-python",
   "name": "python",
   "nbconvert_exporter": "python",
   "pygments_lexer": "ipython3",
   "version": "3.9.13"
  }
 },
 "nbformat": 4,
 "nbformat_minor": 5
}

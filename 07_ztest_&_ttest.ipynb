{
 "cells": [
  {
   "cell_type": "markdown",
   "id": "b0d76b42",
   "metadata": {},
   "source": [
    "# Objectifs"
   ]
  },
  {
   "cell_type": "markdown",
   "id": "c39efb25",
   "metadata": {},
   "source": [
    "Les objectifs de la lecon sont les suivants:\n",
    "* Enoncer H0 et H1 pour chaque test\n",
    "* Calculer en Python les p-valeurs\n",
    "* Interpréter les résultats"
   ]
  },
  {
   "cell_type": "markdown",
   "id": "adcb2c69",
   "metadata": {},
   "source": [
    "# Importer les librairies"
   ]
  },
  {
   "cell_type": "code",
   "execution_count": 1,
   "id": "934fb854",
   "metadata": {},
   "outputs": [],
   "source": [
    "import pandas as pd\n",
    "import numpy as np\n",
    "from scipy import stats"
   ]
  },
  {
   "cell_type": "markdown",
   "id": "b555e1d9",
   "metadata": {},
   "source": [
    "# z-test"
   ]
  },
  {
   "cell_type": "markdown",
   "id": "effb0a09",
   "metadata": {},
   "source": [
    "Nous savons que la taille moyenne des hommes est 1m78 et la taille moyenne des femmes est 1m63 en Suisse. Nous savons également que l'écart type de la population est de 6cm. La taille, que cela soit des hommes ou des femmes, suit une loi normale.\n",
    "\n",
    "Q: Etes-vous de taille moyenne par rapport à la population Suisse ?"
   ]
  },
  {
   "cell_type": "markdown",
   "id": "af949530",
   "metadata": {},
   "source": [
    "Rappel de la formule pour calculer le z-score:\n",
    "$$ z = \\frac{\\bar{X} - \\mu}{\\sigma / \\sqrt{n}} $$"
   ]
  },
  {
   "cell_type": "code",
   "execution_count": 2,
   "id": "8693c1e9",
   "metadata": {},
   "outputs": [],
   "source": [
    "# Ma taille (please dont judge me)\n",
    "height = np.array([1.72])"
   ]
  },
  {
   "cell_type": "code",
   "execution_count": 3,
   "id": "e681ddb6",
   "metadata": {},
   "outputs": [],
   "source": [
    "# Créer les variables dont nous avons besoin\n",
    "sample_mean = np.mean(height) # la moyenne de l'échantillon\n",
    "mu = 1.78 # la moyenne de la population\n",
    "sigma = 0.06 # l'écart type de la population\n",
    "n = len(height) # la taille de l'échantillon"
   ]
  },
  {
   "cell_type": "code",
   "execution_count": 4,
   "id": "0d6d55e8",
   "metadata": {},
   "outputs": [
    {
     "name": "stdout",
     "output_type": "stream",
     "text": [
      "Le score z est: -1.0000000000000009\n"
     ]
    }
   ],
   "source": [
    "# Calculons le z-score\n",
    "z = (sample_mean - mu)/(sigma / np.sqrt(n))\n",
    "\n",
    "print(\"Le score z est:\", z)"
   ]
  },
  {
   "cell_type": "code",
   "execution_count": 5,
   "id": "5941e6a0",
   "metadata": {},
   "outputs": [
    {
     "name": "stdout",
     "output_type": "stream",
     "text": [
      "La p-valeur est: 0.3173105078629137\n",
      "Avec un seuil alpha 0.05 on ne rejète pas l'hypothèse nulle.\n",
      "Je suis dans la moyenne mais pas significativement différent de la moyenne.\n"
     ]
    }
   ],
   "source": [
    "# Calculons maintenant la p-valeur\n",
    "p_valeur = stats.norm.cdf(-abs(z)) * 2\n",
    "alpha = 0.05\n",
    "\n",
    "print(\"La p-valeur est:\", p_valeur)\n",
    "\n",
    "# Si p-valeur < alpha, on rejète l'hypothèse nulle\n",
    "if p_valeur < alpha:\n",
    "    print(\"Avec un seuil alpha\", str(alpha), \"on rejète l'hypothèse nulle.\")\n",
    "    \n",
    "# Si p-valeur > alpha, on ne rejète pas l'hypothèse nulle\n",
    "else:\n",
    "    print(\"Avec un seuil alpha\", str(alpha), \"on ne rejète pas l'hypothèse nulle.\")\n",
    "    print(\"Je suis dans la moyenne mais pas significativement différent de la moyenne.\")"
   ]
  },
  {
   "cell_type": "markdown",
   "id": "a8a2d43f",
   "metadata": {},
   "source": [
    "# t-test"
   ]
  },
  {
   "cell_type": "markdown",
   "id": "0be7c2b4",
   "metadata": {},
   "source": [
    "On va regarder si la moyenne des tailles de la classe est un échantillon statistiquement différent ou non de la moyenne de la population. Qu'en pensez-vous ? \n",
    "\n",
    "On réalise un t-test car l'écart type de la population globale hommes et femmes confondus est inconnu."
   ]
  },
  {
   "cell_type": "markdown",
   "id": "c2e660cb",
   "metadata": {},
   "source": [
    "Rappel de la formule pour calculer la statistique t:\n",
    "$$ t = \\frac{\\bar{X} - \\mu}{s / \\sqrt{n}} $$\n",
    "et les *degrés de libertés* de la loi $t$ de Student sont de $n-1$"
   ]
  },
  {
   "cell_type": "code",
   "execution_count": 6,
   "id": "f3725c4e",
   "metadata": {},
   "outputs": [
    {
     "data": {
      "text/plain": [
       "array([1.9 , 1.74, 1.83, 1.82, 1.78, 1.78, 1.63, 1.75, 1.74, 1.75, 1.81])"
      ]
     },
     "execution_count": 6,
     "metadata": {},
     "output_type": "execute_result"
    }
   ],
   "source": [
    "# On relève la taille des étudiants\n",
    "heights = np.array([1.90, 1.74, 1.83, 1.82, 1.78, 1.78, 1.63, 1.75, 1.74, 1.75, 1.81])\n",
    "heights"
   ]
  },
  {
   "cell_type": "code",
   "execution_count": 7,
   "id": "26667340",
   "metadata": {},
   "outputs": [],
   "source": [
    "# Créer les variables dont nous avons besoin\n",
    "sample_mean = np.mean(heights) # la moyenne de l'échantillon\n",
    "sample_std = np.std(heights, ddof=1) # l'écart type de la population est inconnue\n",
    "mu = (1.78 + 1.63)/2 # la moyenne de la population Suisse (hommes + femmes)\n",
    "n = len(heights) # la taille de l'échantillon"
   ]
  },
  {
   "cell_type": "code",
   "execution_count": 8,
   "id": "c603ee85",
   "metadata": {},
   "outputs": [
    {
     "name": "stdout",
     "output_type": "stream",
     "text": [
      "1.7754545454545452\n"
     ]
    }
   ],
   "source": [
    "print(sample_mean)"
   ]
  },
  {
   "cell_type": "code",
   "execution_count": 9,
   "id": "dbf990b6",
   "metadata": {},
   "outputs": [
    {
     "name": "stdout",
     "output_type": "stream",
     "text": [
      "1.705\n"
     ]
    }
   ],
   "source": [
    "print(mu)"
   ]
  },
  {
   "cell_type": "code",
   "execution_count": 10,
   "id": "e6c5375e",
   "metadata": {},
   "outputs": [
    {
     "name": "stdout",
     "output_type": "stream",
     "text": [
      "0.06831744087180615\n"
     ]
    }
   ],
   "source": [
    "print(sample_std)"
   ]
  },
  {
   "cell_type": "code",
   "execution_count": 11,
   "id": "18ac5678",
   "metadata": {},
   "outputs": [
    {
     "name": "stdout",
     "output_type": "stream",
     "text": [
      "La taille moyenne de l'échantillon est de 1.7754545454545452\n",
      "L'écart type de l'échantillon est de 0.06831744087180615\n"
     ]
    }
   ],
   "source": [
    "print(\"La taille moyenne de l'échantillon est de\", str(sample_mean))\n",
    "print(\"L'écart type de l'échantillon est de\", str(sample_std))"
   ]
  },
  {
   "cell_type": "code",
   "execution_count": 12,
   "id": "7892c410",
   "metadata": {},
   "outputs": [
    {
     "name": "stdout",
     "output_type": "stream",
     "text": [
      "La statistique t est: 3.420375369244828\n"
     ]
    }
   ],
   "source": [
    "# Calculons la statistique t\n",
    "t = (sample_mean - mu)/(sample_std / np.sqrt(n))\n",
    "\n",
    "print(\"La statistique t est:\", t)"
   ]
  },
  {
   "cell_type": "code",
   "execution_count": 13,
   "id": "c0b8d2cd",
   "metadata": {},
   "outputs": [
    {
     "name": "stdout",
     "output_type": "stream",
     "text": [
      "La p-valeur est: 0.006543307647716706\n",
      "Avec un seuil alpha 0.05 on rejette l'hypothèse nulle.\n",
      "Statistiquement parlant, les étudiants de la HE-Arc ont une taille moyenne qui n'est pas dans celle de la population.\n"
     ]
    }
   ],
   "source": [
    "# Calculons maintenant la p-valeur\n",
    "p_valeur = stats.t.cdf(-abs(t), df=n-1) * 2\n",
    "alpha = 0.05\n",
    "\n",
    "print(\"La p-valeur est:\", p_valeur)\n",
    "\n",
    "# Si p-valeur < alpha, on rejète l'hypothèse nulle\n",
    "if p_valeur < alpha:\n",
    "    print(\"Avec un seuil alpha\", str(alpha), \"on rejette l'hypothèse nulle.\")\n",
    "    print(\"Statistiquement parlant, les étudiants de la HE-Arc ont une taille moyenne qui n'est pas dans celle de la population.\")\n",
    "    \n",
    "# Si p-valeur > alpha, on ne rejète pas l'hypothèse nulle\n",
    "else:\n",
    "    print(\"Avec un seuil alpha\", str(alpha), \"on ne rejette pas l'hypothèse nulle.\")"
   ]
  },
  {
   "cell_type": "markdown",
   "id": "daf2dd71",
   "metadata": {},
   "source": [
    "# Maintenant que l'on a compris..."
   ]
  },
  {
   "cell_type": "markdown",
   "id": "65f52a1d",
   "metadata": {},
   "source": [
    "La fonction [`stats.ttest_1samp`](https://docs.scipy.org/doc/scipy/reference/generated/scipy.stats.ttest_1samp.html) de SciPy permet de faire ce t-test de façon automatique en une ligne."
   ]
  },
  {
   "cell_type": "code",
   "execution_count": 14,
   "id": "2e1c879a",
   "metadata": {},
   "outputs": [
    {
     "name": "stdout",
     "output_type": "stream",
     "text": [
      "La statistique t est de : 3.4203753692448275\n",
      "La p-valeur associée est de : 0.0065433076477167205\n",
      "Avec un seuil alpha 0.05 on rejète l'hypothèse nulle.\n"
     ]
    }
   ],
   "source": [
    "t, p_valeur = stats.ttest_1samp(heights, popmean=mu)\n",
    "\n",
    "print(\"La statistique t est de : \" + str(t))\n",
    "print(\"La p-valeur associée est de : \" + str(p_valeur))\n",
    "\n",
    "# Si p-valeur < alpha, on rejète l'hypothèse nulle\n",
    "if p_valeur < alpha:\n",
    "    print(\"Avec un seuil alpha\", str(alpha), \"on rejète l'hypothèse nulle.\")\n",
    "    \n",
    "# Si p-valeur > alpha, on ne rejète pas l'hypothèse nulle\n",
    "else:\n",
    "    print(\"Avec un seuil alpha\", str(alpha), \"on ne rejète pas l'hypothèse nulle.\")"
   ]
  }
 ],
 "metadata": {
  "kernelspec": {
   "display_name": "Python 3 (ipykernel)",
   "language": "python",
   "name": "python3"
  },
  "language_info": {
   "codemirror_mode": {
    "name": "ipython",
    "version": 3
   },
   "file_extension": ".py",
   "mimetype": "text/x-python",
   "name": "python",
   "nbconvert_exporter": "python",
   "pygments_lexer": "ipython3",
   "version": "3.12.5"
  }
 },
 "nbformat": 4,
 "nbformat_minor": 5
}

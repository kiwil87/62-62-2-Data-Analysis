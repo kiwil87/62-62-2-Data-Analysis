{
 "cells": [
  {
   "cell_type": "markdown",
   "id": "9dbb1e05",
   "metadata": {},
   "source": [
    "# Objectifs"
   ]
  },
  {
   "cell_type": "markdown",
   "id": "dbcb6765",
   "metadata": {},
   "source": [
    "Les objectifs de la lecon sont les suivants:\n",
    "* Enoncer H0 et H1 pour chaque test\n",
    "* Calculer en Python les p-valeurs\n",
    "* Interpréter les résultats"
   ]
  },
  {
   "cell_type": "markdown",
   "id": "e597d36f",
   "metadata": {},
   "source": [
    "# Importer les librairies"
   ]
  },
  {
   "cell_type": "code",
   "execution_count": 1,
   "id": "3fcdd3a6",
   "metadata": {},
   "outputs": [],
   "source": [
    "from scipy import stats"
   ]
  },
  {
   "cell_type": "markdown",
   "id": "1af95639",
   "metadata": {},
   "source": [
    "# $\\chi^2$ independence test"
   ]
  },
  {
   "cell_type": "markdown",
   "id": "bfeda0c9",
   "metadata": {},
   "source": [
    "Un chercheur souhaite savoir s'il existe un lien entre le genre et le choix de marque de lait au seuil 0.05. \n",
    "\n",
    "Une étude est réalisée et l'on demande à 200 personnes aléatoires dans un supermarché leur marque de lait préférée parmi 4 proposées (A, B, C et D)."
   ]
  },
  {
   "cell_type": "markdown",
   "id": "f23c7a29",
   "metadata": {},
   "source": [
    "$H_0$: Le choix du type de lait est **indépendent** du genre. $H_1$: Le choix du type de lait n'est **pas indépendent** du genre."
   ]
  },
  {
   "cell_type": "code",
   "execution_count": 2,
   "id": "0700736b",
   "metadata": {},
   "outputs": [],
   "source": [
    "# Voici les données récoltées, sous forme de tableau de contingence\n",
    "observed = [\n",
    "    [20, 10, 40, 30], # men\n",
    "    [44, 6, 22, 28] # women\n",
    "]"
   ]
  },
  {
   "cell_type": "markdown",
   "id": "40357776",
   "metadata": {},
   "source": [
    "Parmi ceux qui ont répondu, il y a 100 hommes et 100 femmes. 20 hommes mentionnent la marque A, 10 la marque B, etc. 44 femmes mentionnent la marque A, 6 la marque B, etc."
   ]
  },
  {
   "cell_type": "markdown",
   "id": "247c70e9",
   "metadata": {},
   "source": [
    "Les assumptions sont-elles validées?\n",
    "* Les variables sont bien catégoriques.\n",
    "* Les variables sont indépendentes.\n",
    "* L'échantillon est aléatoire.\n",
    "* Il y au moins 5 valeurs pour chaque combinaison des variables.\n",
    "\n",
    "On peut donc passer au test d'hypothèse."
   ]
  },
  {
   "cell_type": "markdown",
   "id": "df04c760",
   "metadata": {},
   "source": [
    "La fonction [`chi2_contingency`](https://docs.scipy.org/doc/scipy/reference/generated/scipy.stats.chi2_contingency.html) prend comme argument un tableau de contingence contenant les valeurs observées. Elle retourne 4 éléments:\n",
    "* Le test statistique\n",
    "* La p-valeur\n",
    "* Les degrés de liberté\n",
    "* Les valeurs attendues"
   ]
  },
  {
   "cell_type": "code",
   "execution_count": 3,
   "id": "e0673ed8",
   "metadata": {},
   "outputs": [
    {
     "name": "stdout",
     "output_type": "stream",
     "text": [
      "The statistic is  15.294771968854281\n",
      "P-value is 0.0015813113058002915\n",
      "Degrees of Freedom: 3\n"
     ]
    }
   ],
   "source": [
    "# Utilisons la foncton chi2_contingency\n",
    "chi2_stat, p_val, dof, ex = stats.chi2_contingency(observed)\n",
    "\n",
    "print(\"The statistic is \", chi2_stat)\n",
    "print(\"P-value is\", p_val)\n",
    "print(\"Degrees of Freedom:\", dof)"
   ]
  },
  {
   "cell_type": "markdown",
   "id": "cd0fb6be",
   "metadata": {},
   "source": [
    "Analysons les résultats:\n",
    "* Le test statistique est 15.29.\n",
    "* **p-valeur < seuil**.\n",
    "* Les degrés de liberté sont 3 (3x1=3).\n",
    "* Les valeurs attendues sont données (e.g., premier élément = 100x64/200 = 32)"
   ]
  },
  {
   "cell_type": "code",
   "execution_count": 5,
   "id": "afe7c0bc",
   "metadata": {},
   "outputs": [
    {
     "name": "stdout",
     "output_type": "stream",
     "text": [
      "[[32.  8. 31. 29.]\n",
      " [32.  8. 31. 29.]]\n"
     ]
    }
   ],
   "source": [
    "print(ex)"
   ]
  },
  {
   "cell_type": "markdown",
   "id": "0567cfe2",
   "metadata": {},
   "source": [
    "Puisque p-valeur < seuil, on **rejette l'hypothèse nulle**. Il y a assez de preuve pour rejetter l'idée selon laquelle le genre et le choix de marques de lait sont indépendents."
   ]
  },
  {
   "cell_type": "markdown",
   "id": "4d2ec0a1",
   "metadata": {},
   "source": [
    "# $\\chi^2$ homogeneity of proportions test"
   ]
  },
  {
   "cell_type": "markdown",
   "id": "7bd660b9",
   "metadata": {},
   "source": [
    "Un responsable des admissions à une université américaine s'inquiétait du fait que les hommes et les femmes étaient acceptés à des taux différents dans les quatres écoles (commerce, ingénierie, arts libéraux et sciences) de son université. Il demande donc à un chercheur de tester statistiquement si les répartitions des différents effectifs sont équivalentes. Le chercheur choisit le seuil 0.05."
   ]
  },
  {
   "cell_type": "markdown",
   "id": "db7ff400",
   "metadata": {},
   "source": [
    "$H_0$: Il n'y a pas de différences significatives dans la répartition. $H_1$: Il existe au moins une différence significative dans la répartition des groupes."
   ]
  },
  {
   "cell_type": "code",
   "execution_count": 6,
   "id": "c267d0d2",
   "metadata": {},
   "outputs": [],
   "source": [
    "# Voici les données récoltées, sous forme de tableau de contingence\n",
    "observed = [\n",
    "    [300, 240, 300, 360], # men\n",
    "    [200, 160, 200, 240], # women\n",
    "]"
   ]
  },
  {
   "cell_type": "markdown",
   "id": "c13332f5",
   "metadata": {},
   "source": [
    "300 hommes ont été acceptés en commerce, 240 en ingénierie, etc. 200 femmes ont été acceptées en commerce, 160 en ingénierie, etc."
   ]
  },
  {
   "cell_type": "code",
   "execution_count": 7,
   "id": "976cce45",
   "metadata": {},
   "outputs": [
    {
     "name": "stdout",
     "output_type": "stream",
     "text": [
      "The statistic is  0.0\n",
      "P-value is 1.0\n",
      "Degrees of Freedom: 3\n"
     ]
    }
   ],
   "source": [
    "# Utilisons la foncton chi2_contingency\n",
    "chi2_stat, p_val, dof, ex = stats.chi2_contingency(observed)\n",
    "\n",
    "print(\"The statistic is \", chi2_stat)\n",
    "print(\"P-value is\", p_val)\n",
    "print(\"Degrees of Freedom:\", dof)"
   ]
  },
  {
   "cell_type": "code",
   "execution_count": 8,
   "id": "ff6cffef",
   "metadata": {},
   "outputs": [
    {
     "name": "stdout",
     "output_type": "stream",
     "text": [
      "Les valeurs attendues sont:\n",
      " [[300. 240. 300. 360.]\n",
      " [200. 160. 200. 240.]]\n"
     ]
    }
   ],
   "source": [
    "# Checkons les valeurs attendues: celles-ci devraient être les mêmes \n",
    "# que celles observées puisque que la statistic est 0\n",
    "print(\"Les valeurs attendues sont:\\n\", ex)"
   ]
  },
  {
   "cell_type": "markdown",
   "id": "a235269d",
   "metadata": {},
   "source": [
    "Analysons les résultats:\n",
    "* Le test statistique est 0.\n",
    "* **p-valeur > seuil**.\n",
    "* Les degrés de liberté sont 3 (3x1=3).\n",
    "* Les valeurs attendues sont données (e.g., premier élément = 1200x500/2000 = 300)"
   ]
  },
  {
   "cell_type": "markdown",
   "id": "d16b14a0",
   "metadata": {},
   "source": [
    "Puisque p-valeur > seuil, on **ne rejette pas l'hypothèse nulle**. Il n'y a pas assez de preuve pour supporter l'idée selon laquelle il existe au moins une différence significative dans la répartition."
   ]
  }
 ],
 "metadata": {
  "kernelspec": {
   "display_name": "Python 3 (ipykernel)",
   "language": "python",
   "name": "python3"
  },
  "language_info": {
   "codemirror_mode": {
    "name": "ipython",
    "version": 3
   },
   "file_extension": ".py",
   "mimetype": "text/x-python",
   "name": "python",
   "nbconvert_exporter": "python",
   "pygments_lexer": "ipython3",
   "version": "3.9.13"
  }
 },
 "nbformat": 4,
 "nbformat_minor": 5
}
